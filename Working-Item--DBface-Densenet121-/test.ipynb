{
 "cells": [
  {
   "cell_type": "code",
   "execution_count": 1,
   "outputs": [],
   "source": [
    "# 导入包\n",
    "import os\n",
    "import cv2\n",
    "import torch\n",
    "from PIL import Image\n",
    "from datas.get_data import transform\n",
    "from utils.db_pro import compare, image_demos\n",
    "from my_train import My_Face\n",
    "import torch.nn.functional as F"
   ],
   "metadata": {
    "collapsed": false,
    "ExecuteTime": {
     "start_time": "2023-09-11T10:12:12.689765Z",
     "end_time": "2023-09-11T10:12:15.946464Z"
    }
   }
  },
  {
   "cell_type": "code",
   "execution_count": null,
   "outputs": [],
   "source": [
    "# 实例化网络，开启测试\n",
    "net = My_Face()\n",
    "net.load_state_dict(torch.load('weight/best.pt'))\n",
    "net.eval()"
   ],
   "metadata": {
    "collapsed": false
   }
  },
  {
   "cell_type": "code",
   "execution_count": 2,
   "outputs": [],
   "source": [
    "# 计算余弦相似度\n",
    "def compare1(face1_list, face2_list):\n",
    "    face1_list_norm = [F.normalize(face1) for face1 in face1_list]\n",
    "    face2_list_norm = [F.normalize(face2) for face2 in face2_list]\n",
    "    res_list = []\n",
    "    for face1_norm, face2_norm in zip(face1_list_norm, face2_list_norm):\n",
    "        res = torch.matmul(face1_norm.to('cpu'), face2_norm.to('cpu').t())\n",
    "        res_list.append(res.item())\n",
    "    return res_list"
   ],
   "metadata": {
    "collapsed": false,
    "ExecuteTime": {
     "start_time": "2023-09-04T17:09:51.666665Z",
     "end_time": "2023-09-04T17:09:51.682655Z"
    }
   }
  },
  {
   "cell_type": "code",
   "execution_count": 8,
   "outputs": [
    {
     "name": "stdout",
     "output_type": "stream",
     "text": [
      "[0.21781492233276367, 0.20362839102745056, 0.5116112232208252, 0.18310074508190155, 0.5198236107826233, 0.3714483380317688, 0.24235594272613525, 0.039593182504177094, 0.20552843809127808, 0.12158907949924469, 0.23372799158096313, 0.4261416792869568, 0.5277085304260254, 0.6860349178314209, 0.5686032176017761, 0.5828366875648499, 0.3584054112434387, 0.39490365982055664, 0.4602883756160736, 0.4004676342010498, 0.31139251589775085, 0.33235782384872437, 0.29845988750457764, 0.3445579707622528, 0.2296624630689621, 0.2770668566226959, 0.49216705560684204, 0.40198254585266113, 0.6561071872711182, 0.41467681527137756, 0.4828881621360779, 0.3387121558189392, 0.39883172512054443, 0.4808107018470764, 0.4141448736190796, 0.28085827827453613, 0.47254231572151184, 0.3693596124649048, 0.5665138959884644, 0.5593856573104858, 0.18871167302131653, 0.6305633187294006, 0.6510739922523499, 0.5753234624862671, 0.4761401414871216, 0.48489561676979065, 0.6266705393791199, 0.30908623337745667, 0.7736993432044983, 0.5718002319335938, 0.6617394685745239, 0.7428267002105713, 0.6279263496398926, 0.51544189453125, 0.5047722458839417, 0.6745336651802063, 0.5270465612411499, 0.7534810900688171, 0.5817761421203613, 0.597929060459137, 0.6575515866279602, 0.7891296148300171, 0.18844419717788696, 0.5403231382369995, 0.45344510674476624, 0.7132159471511841, 0.681962251663208, 0.5811842679977417, 0.4123096764087677, 0.22030426561832428, 0.7686680555343628, 0.40413898229599, 0.17134755849838257, 0.7055954933166504, 0.7557925581932068, 0.22798646986484528, 0.26138609647750854, 0.7026757597923279, 0.3425067067146301, 0.8041125535964966, 0.7288752794265747, 0.7945278286933899, 0.6055845022201538, 0.5539028644561768, 0.7219212651252747, 0.6271523237228394, 0.8667094111442566, 0.816024661064148, 0.7861074209213257, 0.25623810291290283, 0.7227718234062195, 0.7924361228942871, 0.4324292540550232, 0.6927175521850586, 0.8615028858184814, 0.4873548746109009, 0.3881297707557678, 0.5183829069137573, 0.5734983682632446, 0.7646724581718445]\n"
     ]
    }
   ],
   "source": [
    "# 查看储存特征库中的某两个人的特征向量的相似度\n",
    "def look_pt():\n",
    "    model_path = 'weight/feature.pt'\n",
    "    model = torch.load(model_path)\n",
    "    res = compare1(model['xy'], model['zl'])\n",
    "    print(res)\n",
    "\n",
    "\n",
    "look_pt()"
   ],
   "metadata": {
    "collapsed": false,
    "ExecuteTime": {
     "start_time": "2023-09-04T17:11:33.806688Z",
     "end_time": "2023-09-04T17:11:34.037546Z"
    }
   }
  },
  {
   "cell_type": "code",
   "execution_count": 1,
   "outputs": [
    {
     "ename": "NameError",
     "evalue": "name 'torch' is not defined",
     "output_type": "error",
     "traceback": [
      "\u001B[1;31m---------------------------------------------------------------------------\u001B[0m",
      "\u001B[1;31mNameError\u001B[0m                                 Traceback (most recent call last)",
      "Cell \u001B[1;32mIn[1], line 6\u001B[0m\n\u001B[0;32m      4\u001B[0m     \u001B[38;5;28;01mfor\u001B[39;00m key,value \u001B[38;5;129;01min\u001B[39;00m data\u001B[38;5;241m.\u001B[39mitems():\n\u001B[0;32m      5\u001B[0m         \u001B[38;5;28mprint\u001B[39m(key)\n\u001B[1;32m----> 6\u001B[0m \u001B[43mlook_key\u001B[49m\u001B[43m(\u001B[49m\u001B[43m)\u001B[49m\n",
      "Cell \u001B[1;32mIn[1], line 3\u001B[0m, in \u001B[0;36mlook_key\u001B[1;34m()\u001B[0m\n\u001B[0;32m      1\u001B[0m \u001B[38;5;28;01mdef\u001B[39;00m \u001B[38;5;21mlook_key\u001B[39m():\n\u001B[0;32m      2\u001B[0m     pt_file \u001B[38;5;241m=\u001B[39m \u001B[38;5;124m'\u001B[39m\u001B[38;5;124mweight/video.pt\u001B[39m\u001B[38;5;124m'\u001B[39m\n\u001B[1;32m----> 3\u001B[0m     data \u001B[38;5;241m=\u001B[39m \u001B[43mtorch\u001B[49m\u001B[38;5;241m.\u001B[39mload(pt_file)\n\u001B[0;32m      4\u001B[0m     \u001B[38;5;28;01mfor\u001B[39;00m key,value \u001B[38;5;129;01min\u001B[39;00m data\u001B[38;5;241m.\u001B[39mitems():\n\u001B[0;32m      5\u001B[0m         \u001B[38;5;28mprint\u001B[39m(key)\n",
      "\u001B[1;31mNameError\u001B[0m: name 'torch' is not defined"
     ]
    }
   ],
   "source": [
    "# 查看保存的人名\n",
    "def look_key():\n",
    "    pt_file = 'weight/feature.pt'\n",
    "    data = torch.load(pt_file)\n",
    "    for key, value in data.items():\n",
    "        print(key)\n",
    "\n",
    "\n",
    "look_key()"
   ],
   "metadata": {
    "collapsed": false,
    "ExecuteTime": {
     "start_time": "2023-09-04T17:11:27.320687Z",
     "end_time": "2023-09-04T17:11:27.415628Z"
    }
   }
  },
  {
   "cell_type": "code",
   "execution_count": 5,
   "outputs": [
    {
     "ename": "ModuleNotFoundError",
     "evalue": "No module named 'onnx'",
     "output_type": "error",
     "traceback": [
      "\u001B[1;31m---------------------------------------------------------------------------\u001B[0m",
      "\u001B[1;31mModuleNotFoundError\u001B[0m                       Traceback (most recent call last)",
      "Cell \u001B[1;32mIn[5], line 1\u001B[0m\n\u001B[1;32m----> 1\u001B[0m \u001B[38;5;28;01mimport\u001B[39;00m \u001B[38;5;21;01monnx\u001B[39;00m\n\u001B[0;32m      2\u001B[0m \u001B[38;5;28;01mimport\u001B[39;00m \u001B[38;5;21;01monnxruntime\u001B[39;00m \u001B[38;5;28;01mas\u001B[39;00m \u001B[38;5;21;01mort\u001B[39;00m\n\u001B[0;32m      3\u001B[0m \u001B[38;5;28;01mfrom\u001B[39;00m \u001B[38;5;21;01monnxsim\u001B[39;00m \u001B[38;5;28;01mimport\u001B[39;00m simplify\n",
      "\u001B[1;31mModuleNotFoundError\u001B[0m: No module named 'onnx'"
     ]
    }
   ],
   "source": [
    "# 删除键值对\n",
    "def delkey():\n",
    "    pt_file = 'weight/feature.pt'\n",
    "    data = torch.load(pt_file)\n",
    "    key_to_delete = 'xy'\n",
    "    if key_to_delete in data:\n",
    "        del data[key_to_delete]\n",
    "    updated_pt_file = 'weight/new.pt'\n",
    "    torch.save(data, updated_pt_file)\n",
    "    os.remove(pt_file)"
   ],
   "metadata": {
    "collapsed": false,
    "ExecuteTime": {
     "start_time": "2023-09-05T19:49:35.241329Z",
     "end_time": "2023-09-05T19:49:44.882188Z"
    }
   }
  },
  {
   "cell_type": "markdown",
   "source": [],
   "metadata": {
    "collapsed": false
   }
  }
 ],
 "metadata": {
  "kernelspec": {
   "display_name": "Python 3",
   "language": "python",
   "name": "python3"
  },
  "language_info": {
   "codemirror_mode": {
    "name": "ipython",
    "version": 2
   },
   "file_extension": ".py",
   "mimetype": "text/x-python",
   "name": "python",
   "nbconvert_exporter": "python",
   "pygments_lexer": "ipython2",
   "version": "2.7.6"
  }
 },
 "nbformat": 4,
 "nbformat_minor": 0
}
